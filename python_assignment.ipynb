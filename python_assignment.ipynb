{
  "cells": [
    {
      "cell_type": "markdown",
      "metadata": {
        "id": "sFxGFhPJXdxo"
      },
      "source": [
        "#Python Assignment"
      ]
    },
    {
      "cell_type": "markdown",
      "metadata": {
        "id": "1A0K8m-7Yw0h"
      },
      "source": [
        "1. Explain the key features of Python that make it a popular choice for programming.\n",
        "- python is very popularity stems & ease of learning, making it a great choic for beginnere and exprienced programmer alike.Readability, Readability,Open Source,varsatility etc.\n",
        "  *  Readability :-\n",
        "       Python's syntax is designed to be clear and concise, using English keywords and a simple structure, which makes it an excellent choice for beginners.\n",
        "  *  Readability :-\n",
        "       Python can be used for a wide variety of applications, including web development, data science, machine learning, automation, and more.\n",
        "  *  Open Source:\n",
        "      Python is an open-source language, meaning its source code is available to the public and can be used, shared, and modified by anyone.\n",
        "\n",
        "2. Describe the role of predefined keywords in Python and provide examples of how they are used in a program.   \n",
        "- python keywords have predefined reserved world with special meanings so the interpreter can understand them. variable place holder where we keep variety of data which we can used ti write logic.\n",
        "keyword are prefect word that hold a special meaning and have specific pursone in python programing."
      ]
    },
    {
      "cell_type": "code",
      "execution_count": null,
      "metadata": {
        "id": "VQ2gHiyJaLuX"
      },
      "outputs": [],
      "source": [
        "  #number >> integers/ float\n",
        "   2 is this a integers and 2.5 is this float\n",
        "\n",
        "  #characters >> string in python\n",
        "   \"surbhi\" is this string\n",
        "\n",
        "  #true/false >> boolean\n",
        "    d = true\n",
        "    tupe (d)\n",
        "    bool\n",
        "\n",
        "  #complex\n",
        "  4 +6j is this complex\n",
        "  #none >> nothing\n"
      ]
    },
    {
      "cell_type": "markdown",
      "metadata": {
        "id": "L4NIwG6jgRGd"
      },
      "source": [
        "  3.  Compare and contrast mutable and immutable objects in Python with examples.\n",
        "  -  mutable objects can be modified after creation, while immutable objects cannot.\n",
        "\n",
        "   * #mutable object :- Mutable objects allow their internal state to be changed after creation. Modifications can be made directly without creating a new object. eg- Lists, dictionaries, and sets.\n",
        "\n",
        "   * #immutable object :- Immutable objects cannot be modified after creation. Any operation that appears to change the object actually creates a new object with the altered value. eg- Strings, tuples, and numbers (int, float, complex)."
      ]
    },
    {
      "cell_type": "code",
      "execution_count": null,
      "metadata": {
        "id": "efhft3ndosSd"
      },
      "outputs": [],
      "source": [
        "  # mutable\n",
        "   my_list =[1,2,3,3.4]"
      ]
    },
    {
      "cell_type": "code",
      "execution_count": null,
      "metadata": {
        "colab": {
          "base_uri": "https://localhost:8080/"
        },
        "id": "rNk_rpNoo9sw",
        "outputId": "496db276-67d5-4428-fa25-e9bf72b985e6"
      },
      "outputs": [
        {
          "data": {
            "text/plain": [
              "3"
            ]
          },
          "execution_count": 27,
          "metadata": {},
          "output_type": "execute_result"
        }
      ],
      "source": [
        "   my_list[2]"
      ]
    },
    {
      "cell_type": "markdown",
      "metadata": {
        "id": "d4TXdpcBrFmf"
      },
      "source": [
        "   4. Discuss the different types of operators in Python and provide examples of how they are used.\n",
        "   - these are special keyword/ symbols that are used to perform operations or values or variable. these operators can be broadly categorized into arithmetic operators, comparison operators, logical operators, bitwise operators, assignment operators, identity operators, and membership operators."
      ]
    },
    {
      "cell_type": "code",
      "execution_count": null,
      "metadata": {
        "colab": {
          "base_uri": "https://localhost:8080/"
        },
        "id": "e85KV-w9u3gi",
        "outputId": "1ad182c1-cef0-47db-9916-64428a46f939"
      },
      "outputs": [
        {
          "data": {
            "text/plain": [
              "8"
            ]
          },
          "execution_count": 38,
          "metadata": {},
          "output_type": "execute_result"
        }
      ],
      "source": [
        "  a = 3\n",
        "  b = 5\n",
        "  a+b"
      ]
    },
    {
      "cell_type": "code",
      "execution_count": null,
      "metadata": {
        "colab": {
          "base_uri": "https://localhost:8080/"
        },
        "id": "YdIWQcI3vPpx",
        "outputId": "a1e2d94e-8844-4b37-cd87-3c4f7f242656"
      },
      "outputs": [
        {
          "data": {
            "text/plain": [
              "8"
            ]
          },
          "execution_count": 39,
          "metadata": {},
          "output_type": "execute_result"
        }
      ],
      "source": [
        "   #arithmatic operator\n",
        "  add = a+b\n",
        "  add"
      ]
    },
    {
      "cell_type": "code",
      "execution_count": null,
      "metadata": {
        "colab": {
          "base_uri": "https://localhost:8080/"
        },
        "id": "LOA7nSBWvVa5",
        "outputId": "a4bc4a31-8f6d-419c-bd78-263ecded8287"
      },
      "outputs": [
        {
          "data": {
            "text/plain": [
              "40"
            ]
          },
          "execution_count": 40,
          "metadata": {},
          "output_type": "execute_result"
        }
      ],
      "source": [
        "  100-60"
      ]
    },
    {
      "cell_type": "code",
      "execution_count": null,
      "metadata": {
        "colab": {
          "base_uri": "https://localhost:8080/"
        },
        "id": "p6J68f7TvgZr",
        "outputId": "5e5a49b3-b851-4357-8177-060684a2b02d"
      },
      "outputs": [
        {
          "data": {
            "text/plain": [
              "True"
            ]
          },
          "execution_count": 41,
          "metadata": {},
          "output_type": "execute_result"
        }
      ],
      "source": [
        "  #comparison operators\n",
        "  2 == 2"
      ]
    },
    {
      "cell_type": "code",
      "execution_count": null,
      "metadata": {
        "colab": {
          "base_uri": "https://localhost:8080/"
        },
        "id": "MPcRCW5Wv4YQ",
        "outputId": "843a2a93-a261-42f1-dbc8-087b941fdabf"
      },
      "outputs": [
        {
          "data": {
            "text/plain": [
              "False"
            ]
          },
          "execution_count": 42,
          "metadata": {},
          "output_type": "execute_result"
        }
      ],
      "source": [
        "10 < 6"
      ]
    },
    {
      "cell_type": "code",
      "execution_count": null,
      "metadata": {
        "colab": {
          "base_uri": "https://localhost:8080/"
        },
        "id": "G2iZsvohv_LT",
        "outputId": "c896d862-b904-4830-c213-91fb98b150a7"
      },
      "outputs": [
        {
          "data": {
            "text/plain": [
              "False"
            ]
          },
          "execution_count": 50,
          "metadata": {},
          "output_type": "execute_result"
        }
      ],
      "source": [
        "  #logical operators\n",
        "  True and False"
      ]
    },
    {
      "cell_type": "code",
      "execution_count": null,
      "metadata": {
        "colab": {
          "base_uri": "https://localhost:8080/"
        },
        "id": "Rgp3HPiLwPO0",
        "outputId": "10bb7ab4-bc7e-44ef-d4a5-457cc23924ce"
      },
      "outputs": [
        {
          "data": {
            "text/plain": [
              "False"
            ]
          },
          "execution_count": 51,
          "metadata": {},
          "output_type": "execute_result"
        }
      ],
      "source": [
        "    False and True"
      ]
    },
    {
      "cell_type": "code",
      "execution_count": null,
      "metadata": {
        "colab": {
          "base_uri": "https://localhost:8080/"
        },
        "id": "H9SHMdEjw0bz",
        "outputId": "273c9e81-3a59-45ab-b78e-ed67706f2f53"
      },
      "outputs": [
        {
          "data": {
            "text/plain": [
              "10"
            ]
          },
          "execution_count": 52,
          "metadata": {},
          "output_type": "execute_result"
        }
      ],
      "source": [
        " #bitwise operators\n",
        "  10 & 10"
      ]
    },
    {
      "cell_type": "code",
      "execution_count": null,
      "metadata": {
        "colab": {
          "base_uri": "https://localhost:8080/",
          "height": 36
        },
        "id": "XXAAaMizxz5P",
        "outputId": "dcdc07f5-4c31-4a2a-d857-4580730a2bc6"
      },
      "outputs": [
        {
          "data": {
            "application/vnd.google.colaboratory.intrinsic+json": {
              "type": "string"
            },
            "text/plain": [
              "'0b1010'"
            ]
          },
          "execution_count": 53,
          "metadata": {},
          "output_type": "execute_result"
        }
      ],
      "source": [
        "  bin (10)"
      ]
    },
    {
      "cell_type": "code",
      "execution_count": null,
      "metadata": {
        "colab": {
          "base_uri": "https://localhost:8080/"
        },
        "id": "BnE4YqQ1x_Yj",
        "outputId": "48b93d00-66eb-4e2e-edcc-592ef6f4a043"
      },
      "outputs": [
        {
          "data": {
            "text/plain": [
              "10"
            ]
          },
          "execution_count": 56,
          "metadata": {},
          "output_type": "execute_result"
        }
      ],
      "source": [
        " #assignment operators\n",
        "  a = 10\n",
        "  a"
      ]
    },
    {
      "cell_type": "code",
      "execution_count": null,
      "metadata": {
        "colab": {
          "base_uri": "https://localhost:8080/"
        },
        "id": "6F7vjYtIyiQ8",
        "outputId": "850d15c1-5091-485c-fab0-a1d1b52e355d"
      },
      "outputs": [
        {
          "data": {
            "text/plain": [
              "16"
            ]
          },
          "execution_count": 58,
          "metadata": {},
          "output_type": "execute_result"
        }
      ],
      "source": [
        "  b=10\n",
        "  b+6"
      ]
    },
    {
      "cell_type": "code",
      "execution_count": null,
      "metadata": {
        "id": "SqDCcDXby6k8"
      },
      "outputs": [],
      "source": [
        "  #identity operators\n",
        "   a=2\n",
        "   b=3"
      ]
    },
    {
      "cell_type": "code",
      "execution_count": null,
      "metadata": {
        "colab": {
          "base_uri": "https://localhost:8080/"
        },
        "id": "2zWoPV_Nzi1Q",
        "outputId": "b5ac8a32-b618-43b7-bcb3-5ba05d1e65a8"
      },
      "outputs": [
        {
          "data": {
            "text/plain": [
              "False"
            ]
          },
          "execution_count": 60,
          "metadata": {},
          "output_type": "execute_result"
        }
      ],
      "source": [
        "  a is b"
      ]
    },
    {
      "cell_type": "code",
      "execution_count": null,
      "metadata": {
        "colab": {
          "base_uri": "https://localhost:8080/"
        },
        "id": "2iVXe3rDzlYl",
        "outputId": "2a84e019-6112-4b35-a295-d69ba63d77d1"
      },
      "outputs": [
        {
          "data": {
            "text/plain": [
              "True"
            ]
          },
          "execution_count": 65,
          "metadata": {},
          "output_type": "execute_result"
        }
      ],
      "source": [
        " #membership operators\n",
        "  a = \"sonali\"\n",
        "  \"s\" in a\n"
      ]
    },
    {
      "cell_type": "code",
      "execution_count": null,
      "metadata": {
        "colab": {
          "base_uri": "https://localhost:8080/"
        },
        "id": "AyZbbjotz8RO",
        "outputId": "7237c01a-f1dc-4b79-d6cf-73f970782cfb"
      },
      "outputs": [
        {
          "data": {
            "text/plain": [
              "False"
            ]
          },
          "execution_count": 66,
          "metadata": {},
          "output_type": "execute_result"
        }
      ],
      "source": [
        "  \"s\" not in a"
      ]
    },
    {
      "cell_type": "markdown",
      "metadata": {
        "id": "dbZq5c-d0pkw"
      },
      "source": [
        "  5.Explain the concept of type casting in Python with examples.\n",
        "  - Type casting in Python refers to the process of converting a variable's data type to another type of a value/object."
      ]
    },
    {
      "cell_type": "code",
      "execution_count": null,
      "metadata": {
        "colab": {
          "base_uri": "https://localhost:8080/"
        },
        "id": "0utWGb412JCV",
        "outputId": "cba91b35-bcfb-4f7d-a5f9-16856f509e55"
      },
      "outputs": [
        {
          "data": {
            "text/plain": [
              "5"
            ]
          },
          "execution_count": 67,
          "metadata": {},
          "output_type": "execute_result"
        }
      ],
      "source": [
        "  a = 5\n",
        "  a"
      ]
    },
    {
      "cell_type": "code",
      "execution_count": null,
      "metadata": {
        "colab": {
          "base_uri": "https://localhost:8080/"
        },
        "id": "RjSIvuoL2MzF",
        "outputId": "29f20fb6-fb87-4b79-8e83-e9daed6aa8c4"
      },
      "outputs": [
        {
          "data": {
            "text/plain": [
              "int"
            ]
          },
          "execution_count": 68,
          "metadata": {},
          "output_type": "execute_result"
        }
      ],
      "source": [
        "  type(a)"
      ]
    },
    {
      "cell_type": "code",
      "execution_count": null,
      "metadata": {
        "colab": {
          "base_uri": "https://localhost:8080/"
        },
        "id": "Vgf1NsGM2SE2",
        "outputId": "4555d92d-ea5d-433a-8c74-716aef542711"
      },
      "outputs": [
        {
          "data": {
            "text/plain": [
              "float"
            ]
          },
          "execution_count": 69,
          "metadata": {},
          "output_type": "execute_result"
        }
      ],
      "source": [
        "  b = 4.2\n",
        "  type(b)"
      ]
    },
    {
      "cell_type": "markdown",
      "metadata": {
        "id": "9-h8T12b2avB"
      },
      "source": [
        "  \n",
        " 6. How do conditional statements work in Python? Illustrate with examples.\n",
        "  - Conditional statements in Python, like if, elif, and else, control the flow of execution by evaluating conditions and executing different blocks of code based on whether those conditions are true or false."
      ]
    },
    {
      "cell_type": "code",
      "execution_count": null,
      "metadata": {
        "colab": {
          "base_uri": "https://localhost:8080/"
        },
        "id": "_Yz2_CDu3xwb",
        "outputId": "435e315a-38b1-4e6a-a976-969f495e5cc4"
      },
      "outputs": [
        {
          "data": {
            "text/plain": [
              "False"
            ]
          },
          "execution_count": 70,
          "metadata": {},
          "output_type": "execute_result"
        }
      ],
      "source": [
        "  3>4"
      ]
    },
    {
      "cell_type": "code",
      "execution_count": null,
      "metadata": {
        "colab": {
          "base_uri": "https://localhost:8080/"
        },
        "id": "6IX376nY32n0",
        "outputId": "f3bb3cc9-7d03-4175-bce4-1ab0b51c2ac8"
      },
      "outputs": [
        {
          "name": "stdout",
          "output_type": "stream",
          "text": [
            "the number is grater then 0\n"
          ]
        }
      ],
      "source": [
        "  a = 100\n",
        "  if a > 0:\n",
        "    print(\"the number is grater then 0\")"
      ]
    },
    {
      "cell_type": "code",
      "execution_count": null,
      "metadata": {
        "colab": {
          "base_uri": "https://localhost:8080/"
        },
        "id": "gkGpXba_4Ktn",
        "outputId": "53ce2e69-86e1-4b1b-d8ce-ce294474a97a"
      },
      "outputs": [
        {
          "name": "stdout",
          "output_type": "stream",
          "text": [
            "i will not play cricket\n"
          ]
        }
      ],
      "source": [
        "   weather = \"rainy\"\n",
        "   if weather == \"rainy\":\n",
        "     print (\"i will not play cricket\")"
      ]
    },
    {
      "cell_type": "markdown",
      "metadata": {
        "id": "VVc9RlUs434Y"
      },
      "source": [
        " 7. Describe the different types of loops in Python and their use cases with examples.\n",
        "  - In Python, the two primary types of loops are , for loops and while loops, each designed for different use cases, and you can also create nested loops by placing one loop inside another."
      ]
    },
    {
      "cell_type": "code",
      "source": [
        " #while loop\n",
        " n=7\n",
        " i=1\n",
        " while i<n:\n",
        "  print(i)\n",
        "  i=i+1"
      ],
      "metadata": {
        "colab": {
          "base_uri": "https://localhost:8080/"
        },
        "id": "gQRvxFjdAEdy",
        "outputId": "1266fe7b-77c9-4f66-f253-6726dfbbb6b0"
      },
      "execution_count": 8,
      "outputs": [
        {
          "output_type": "stream",
          "name": "stdout",
          "text": [
            "1\n",
            "2\n",
            "3\n",
            "4\n",
            "5\n",
            "6\n"
          ]
        }
      ]
    },
    {
      "cell_type": "code",
      "source": [
        "   n=7\n",
        "   i=1\n",
        "   while i<n:\n",
        "    print(i)\n",
        "    i=i+1\n",
        "   else:\n",
        "      print(\"this will be executed when the while is run successfuly without any break\")"
      ],
      "metadata": {
        "colab": {
          "base_uri": "https://localhost:8080/"
        },
        "id": "A9czVpCJBa-_",
        "outputId": "b060e7e3-70a9-4706-aa6e-62d51bc0d514"
      },
      "execution_count": 12,
      "outputs": [
        {
          "output_type": "stream",
          "name": "stdout",
          "text": [
            "1\n",
            "2\n",
            "3\n",
            "4\n",
            "5\n",
            "6\n",
            "this will be executed when the while is run successfuly without any break\n"
          ]
        }
      ]
    },
    {
      "cell_type": "code",
      "source": [
        " #for loops\n",
        " for i in \"pwskills\":\n",
        "  print(i)"
      ],
      "metadata": {
        "colab": {
          "base_uri": "https://localhost:8080/"
        },
        "id": "-y898DujDH_C",
        "outputId": "9fb2e1be-52ba-43f3-9acd-796ce69f4358"
      },
      "execution_count": 22,
      "outputs": [
        {
          "output_type": "stream",
          "name": "stdout",
          "text": [
            "p\n",
            "w\n",
            "s\n",
            "k\n",
            "i\n",
            "l\n",
            "l\n",
            "s\n"
          ]
        }
      ]
    },
    {
      "cell_type": "code",
      "source": [
        " for i in range(0,10):\n",
        "  print(i)"
      ],
      "metadata": {
        "colab": {
          "base_uri": "https://localhost:8080/"
        },
        "id": "THEcZfvCGkNU",
        "outputId": "1e5b7cae-8c2a-4d03-9b80-db67b81b3cd6"
      },
      "execution_count": 41,
      "outputs": [
        {
          "output_type": "stream",
          "name": "stdout",
          "text": [
            "0\n",
            "1\n",
            "2\n",
            "3\n",
            "4\n",
            "5\n",
            "6\n",
            "7\n",
            "8\n",
            "9\n"
          ]
        }
      ]
    },
    {
      "cell_type": "code",
      "source": [
        "row=1\n",
        "while row<=5:\n",
        "  col=1\n",
        "  while col<=row:\n",
        "    print(\"*\",end=\"\")\n",
        "    col=col+1\n",
        "  print()\n",
        "  row=row+1"
      ],
      "metadata": {
        "colab": {
          "base_uri": "https://localhost:8080/"
        },
        "id": "VdKS2AmTIMaT",
        "outputId": "0b898f1c-dc8b-4e6f-9333-298d62b7959e"
      },
      "execution_count": 52,
      "outputs": [
        {
          "output_type": "stream",
          "name": "stdout",
          "text": [
            "*\n",
            "**\n",
            "***\n",
            "****\n",
            "*****\n"
          ]
        }
      ]
    },
    {
      "cell_type": "code",
      "source": [
        "for i in range (4):\n",
        "  print(i, end=\"*\")"
      ],
      "metadata": {
        "colab": {
          "base_uri": "https://localhost:8080/"
        },
        "id": "P3WwIvGlJbT0",
        "outputId": "de105de3-fda9-4253-fb22-9842e9b63652"
      },
      "execution_count": 67,
      "outputs": [
        {
          "output_type": "stream",
          "name": "stdout",
          "text": [
            "0*1*2*3*"
          ]
        }
      ]
    },
    {
      "cell_type": "code",
      "source": [],
      "metadata": {
        "id": "_1zDDZ6ZKZEx"
      },
      "execution_count": null,
      "outputs": []
    }
  ],
  "metadata": {
    "colab": {
      "provenance": []
    },
    "kernelspec": {
      "display_name": "Python 3",
      "name": "python3"
    },
    "language_info": {
      "name": "python"
    }
  },
  "nbformat": 4,
  "nbformat_minor": 0
}